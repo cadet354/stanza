{
 "cells": [
  {
   "cell_type": "code",
   "execution_count": 1,
   "metadata": {},
   "outputs": [],
   "source": [
    "import stanza"
   ]
  },
  {
   "cell_type": "code",
   "execution_count": 2,
   "metadata": {},
   "outputs": [],
   "source": [
    "import torch"
   ]
  },
  {
   "cell_type": "code",
   "execution_count": 3,
   "metadata": {},
   "outputs": [
    {
     "data": {
      "text/plain": [
       "True"
      ]
     },
     "execution_count": 3,
     "metadata": {},
     "output_type": "execute_result"
    }
   ],
   "source": [
    "torch.cuda.is_available()"
   ]
  },
  {
   "cell_type": "code",
   "execution_count": 4,
   "metadata": {},
   "outputs": [
    {
     "name": "stdout",
     "output_type": "stream",
     "text": [
      "total 191648\r\n",
      "drwxr-xr-x 2 captain captain     4096 июн 25 14:52 .\r\n",
      "drwxr-xr-x 3 captain captain     4096 июн  5 13:12 ..\r\n",
      "-rw-r--r-- 1 captain captain 49059548 июн 16 19:56 ru_kasha_nertagger.pt\r\n",
      "-rw-r--r-- 1 captain captain 49059561 июн 21 13:29 ru_pampers_kasha_pure_nertagger.pt\r\n",
      "-rw-r--r-- 1 captain captain 49058278 июн  8 13:18 ru_pampers_nertagger.pt\r\n",
      "-rw-r--r-- 1 captain captain 49050374 июн 25 14:54 ru_pure_nertagger.pt\r\n"
     ]
    }
   ],
   "source": [
    "!ls -all ../saved_models/ner"
   ]
  },
  {
   "cell_type": "code",
   "execution_count": 5,
   "metadata": {},
   "outputs": [
    {
     "name": "stderr",
     "output_type": "stream",
     "text": [
      "Downloading https://raw.githubusercontent.com/stanfordnlp/stanza-resources/master/resources_1.0.0.json: 115kB [00:00, 7.37MB/s]                    \n",
      "2020-06-25 15:20:51 INFO: Downloading default packages for language: ru (Russian)...\n",
      "2020-06-25 15:20:52 INFO: File exists: /home/captain/stanza_resources/ru/default.zip.\n",
      "2020-06-25 15:20:59 INFO: Finished downloading models and saved to /home/captain/stanza_resources.\n"
     ]
    }
   ],
   "source": [
    "stanza.download('ru')"
   ]
  },
  {
   "cell_type": "code",
   "execution_count": 7,
   "metadata": {},
   "outputs": [
    {
     "name": "stderr",
     "output_type": "stream",
     "text": [
      "2020-06-25 15:22:43 INFO: Loading these models for language: ru (Russian):\n",
      "=======================================\n",
      "| Processor | Package                 |\n",
      "---------------------------------------\n",
      "| tokenize  | syntagrus               |\n",
      "| ner       | ../saved_m...rtagger.pt |\n",
      "=======================================\n",
      "\n",
      "2020-06-25 15:22:43 INFO: Use device: gpu\n",
      "2020-06-25 15:22:43 INFO: Loading: tokenize\n",
      "2020-06-25 15:22:43 INFO: Loading: ner\n",
      "2020-06-25 15:22:44 INFO: Done loading processors!\n"
     ]
    }
   ],
   "source": [
    "nlp = stanza.Pipeline('ru', processors='tokenize,ner', tokenize_pretokenized=True, ner_model_path=\"../saved_models/ner/ru_pure_nertagger.pt\")"
   ]
  },
  {
   "cell_type": "code",
   "execution_count": 8,
   "metadata": {
    "pycharm": {
     "name": "#%%\n"
    }
   },
   "outputs": [
    {
     "name": "stdout",
     "output_type": "stream",
     "text": [
      "{'model_path': '/home/captain/stanza_resources/ru/tokenize/syntagrus.pt', 'pretokenized': True, 'lang': 'ru', 'mode': 'predict'}\n"
     ]
    }
   ],
   "source": [
    "print(nlp.loaded_processors[1].pipeline.processors[\"tokenize\"].config)"
   ]
  },
  {
   "cell_type": "code",
   "execution_count": 9,
   "metadata": {},
   "outputs": [
    {
     "name": "stdout",
     "output_type": "stream",
     "text": [
      "entity: ФрутоНяня\ttype: ORG\n",
      "entity: пюре\ttype: PRODUCT\n",
      "entity: десерт\ttype: PRODUCT\n",
      "entity: из\ttype: PRODUCT\n",
      "entity: вишни\ttype: PRODUCT\n",
      "entity: рябины,яблока\ttype: PRODUCT\n",
      "entity: и\ttype: PRODUCT\n",
      "entity: смородины\ttype: PRODUCT\n",
      "entity: с\ttype: QUANTITY\n",
      "entity: 5\ttype: QUANTITY\n",
      "entity: месяцев,90\ttype: CARDINAL\n",
      "entity: г\ttype: CARDINAL\n"
     ]
    }
   ],
   "source": [
    "doc = nlp(\"ФрутоНяня пюре десерт из вишни рябины,яблока\tи смородины с 5 месяцев,90 г\")\n",
    "print(*[f'entity: {ent.text}\\ttype: {ent.type}' for sent in doc.sentences for ent in sent.ents], sep='\\n')"
   ]
  },
  {
   "cell_type": "code",
   "execution_count": 10,
   "metadata": {},
   "outputs": [],
   "source": [
    "from stanza.models.ner.data import DataLoader"
   ]
  },
  {
   "cell_type": "code",
   "execution_count": 11,
   "metadata": {},
   "outputs": [
    {
     "data": {
      "text/plain": [
       "(['ORG',\n",
       "  'PRODUCT',\n",
       "  'PRODUCT',\n",
       "  'PRODUCT',\n",
       "  'PRODUCT',\n",
       "  'PRODUCT',\n",
       "  'PRODUCT',\n",
       "  'PRODUCT',\n",
       "  'QUANTITY',\n",
       "  'QUANTITY',\n",
       "  'CARDINAL',\n",
       "  'CARDINAL'],\n",
       " ['ФрутоНяня',\n",
       "  'пюре',\n",
       "  'десерт',\n",
       "  'из',\n",
       "  'вишни',\n",
       "  'рябины,яблока',\n",
       "  'и',\n",
       "  'смородины',\n",
       "  'с',\n",
       "  '5',\n",
       "  'месяцев,90',\n",
       "  'г'])"
      ]
     },
     "execution_count": 11,
     "metadata": {},
     "output_type": "execute_result"
    }
   ],
   "source": [
    "def predict(line):\n",
    "    doc = nlp(line)\n",
    "    labels = [ent.type for sent in doc.sentences for ent in sent.ents]\n",
    "    text = [ent.text for sent in doc.sentences for ent in sent.ents]\n",
    "    return (labels, text)\n",
    "predict(\"ФрутоНяня пюре десерт из вишни рябины,яблока\tи смородины с 5 месяцев,90 г\")"
   ]
  },
  {
   "cell_type": "markdown",
   "metadata": {},
   "source": [
    " ### получить данные как остальные классификаторы"
   ]
  },
  {
   "cell_type": "code",
   "execution_count": 12,
   "metadata": {},
   "outputs": [],
   "source": [
    "from collections import Counter\n",
    "\n",
    "counter_TP= Counter()\n",
    "counter_FN = Counter()\n",
    "counter_FP = Counter()\n",
    "\n",
    "def calculate_match(true_values, pred_values):\n",
    "    for i, label in enumerate(filter(lambda v: v !=\"O\",true_values)):\n",
    "        if len(pred_values) <= i:\n",
    "            counter_FN[label] += 1\n",
    "            #counter_FP[pred_value] +=1\n",
    "            continue\n",
    "            \n",
    "        pred_value = pred_values[i]    \n",
    "        if  label == pred_value:\n",
    "            counter_TP[label] += 1\n",
    "        else:\n",
    "            counter_FN[label] += 1\n",
    "            counter_FP[pred_value] +=1"
   ]
  },
  {
   "cell_type": "markdown",
   "metadata": {},
   "source": [
    "### прочитать валидационный корпус"
   ]
  },
  {
   "cell_type": "code",
   "execution_count": 15,
   "metadata": {},
   "outputs": [],
   "source": [
    "# отдельно каши\n",
    "valid_df_path=\"../data/ner/Russian-pure/test.bio\"\n",
    "test_dataset = []\n",
    "with open(valid_df_path, \"r\") as fp:\n",
    "    acc = []\n",
    "    for line in fp:\n",
    "        if (line != \"\\n\"):\n",
    "            tmp = line.strip().split(\"\\t\")\n",
    "            acc.append((tmp[0], tmp[1]))\n",
    "        else:\n",
    "            test_dataset.append(acc)\n",
    "            acc = []"
   ]
  },
  {
   "cell_type": "code",
   "execution_count": 16,
   "metadata": {},
   "outputs": [
    {
     "data": {
      "text/plain": [
       "808"
      ]
     },
     "execution_count": 16,
     "metadata": {},
     "output_type": "execute_result"
    }
   ],
   "source": [
    "len(test_dataset)"
   ]
  },
  {
   "cell_type": "code",
   "execution_count": 17,
   "metadata": {},
   "outputs": [
    {
     "name": "stdout",
     "output_type": "stream",
     "text": [
      "[['O', 'ORG', 'PRODUCT', 'PRODUCT', 'PRODUCT', 'PRODUCT', 'PRODUCT', 'PRODUCT', 'PRODUCT', 'PRODUCT', 'QUANTITY', 'QUANTITY', 'QUANTITY', 'O', 'CARDINAL', 'CARDINAL', 'O'], ['O', 'ORG', 'ORG', 'PRODUCT', 'PRODUCT', 'O', 'CARDINAL', 'CARDINAL', 'O']]\n",
      "['\" ФрутоНяня пюре десерт из вишни, рябины, яблока и смородины с 5 месяцев , 90 г \"', '\" Егор Иваныч Пюре Говядина , 80 г \"']\n"
     ]
    }
   ],
   "source": [
    "test_labels = []\n",
    "test_texts = []\n",
    "for line in test_dataset:\n",
    "    test_labels.append(list(map(lambda x: x[1], line)))\n",
    "    test_texts.append(\" \".join(map(lambda x: x[0], line)))\n",
    "    \n",
    "print(test_labels[:2])\n",
    "print(test_texts[:2])"
   ]
  },
  {
   "cell_type": "code",
   "execution_count": 18,
   "metadata": {},
   "outputs": [
    {
     "data": {
      "text/plain": [
       "808"
      ]
     },
     "execution_count": 18,
     "metadata": {},
     "output_type": "execute_result"
    }
   ],
   "source": [
    "len(test_texts)"
   ]
  },
  {
   "cell_type": "markdown",
   "metadata": {},
   "source": [
    "### сохранить в файл транзакции"
   ]
  },
  {
   "cell_type": "code",
   "execution_count": 19,
   "metadata": {},
   "outputs": [],
   "source": [
    "with open(\"/tmp/pure_test.tsv\", \"w+\") as fo:\n",
    "    for line in test_texts:\n",
    "        fo.write(line+\"\\n\")"
   ]
  },
  {
   "cell_type": "code",
   "execution_count": 20,
   "metadata": {},
   "outputs": [
    {
     "name": "stdout",
     "output_type": "stream",
     "text": [
      "\" ФрутоНяня пюре десерт из вишни, рябины, яблока и смородины с 5 месяцев , 90 г \"\r\n",
      "\" Егор Иваныч Пюре Говядина , 80 г \"\r\n",
      "\" Semper Пюре яблочно-персиковое с кашей с 6 месяцев , 12 шт по 120 г \"\r\n",
      "ПЮРЕ ПАУЧ БАБ ЛУКОШ ЯБ/МАЛ/ВИШ С5М 90Г\r\n",
      "Пюре Спелёнок Брокколи с 4 мес . 80 г .\r\n",
      "\" Semper Пюре яблоко и банан с 6 месяцев , 12 шт по 90 г \"\r\n",
      "Пюре Fleur Alpine Organic Яблоко с 4 мес . 90 г .\r\n",
      "Овощное пюре ' Бабушкино Лукошко ' Тыква с 5 месяцев 100г\r\n",
      "\" Bebivita пюре картофель и морковь с цыпленком , с 9 месяцев , 6 шт по 190 г \"\r\n",
      "\" Hame яблоко - морковь фруктовое пюре , 190 г \"\r\n"
     ]
    }
   ],
   "source": [
    "!head /tmp/pure_test.tsv"
   ]
  },
  {
   "cell_type": "markdown",
   "metadata": {},
   "source": [
    "### получить предсказания"
   ]
  },
  {
   "cell_type": "code",
   "execution_count": 21,
   "metadata": {},
   "outputs": [
    {
     "name": "stdout",
     "output_type": "stream",
     "text": [
      "CPU times: user 6.37 s, sys: 30.2 ms, total: 6.4 s\n",
      "Wall time: 6.41 s\n"
     ]
    },
    {
     "data": {
      "text/plain": [
       "7323"
      ]
     },
     "execution_count": 21,
     "metadata": {},
     "output_type": "execute_result"
    }
   ],
   "source": [
    "%%time\n",
    "pred_labels = []\n",
    "pred_text =[]\n",
    "for line in test_texts:\n",
    "    tmp = predict(line)\n",
    "    pred_labels.append(tmp[0])\n",
    "    pred_text.append(tmp[1])\n",
    "    \n",
    "len([item for sublist in pred_labels for item in sublist])"
   ]
  },
  {
   "cell_type": "code",
   "execution_count": 22,
   "metadata": {},
   "outputs": [
    {
     "data": {
      "text/plain": [
       "134.66666666666666"
      ]
     },
     "execution_count": 22,
     "metadata": {},
     "output_type": "execute_result"
    }
   ],
   "source": [
    "len(test_texts)/6 # скорость порядка 130-140 транзакций в секунду"
   ]
  },
  {
   "cell_type": "code",
   "execution_count": 23,
   "metadata": {},
   "outputs": [
    {
     "name": "stdout",
     "output_type": "stream",
     "text": [
      "Label\t\tPrecision\tRecall\tF1\tTruePositive\tFalsePositiv\tFalseNegative\n",
      "ORDINAL\t\t0.939\t\t0.969\t0.954\t31\t\t2\t\t1\n",
      "ORG\t\t0.994\t\t0.992\t0.993\t943\t\t6\t\t8\n",
      "PRODUCT\t\t0.994\t\t0.996\t0.995\t3006\t\t18\t\t12\n",
      "MODEL\t\t0.987\t\t0.962\t0.974\t76\t\t1\t\t3\n",
      "QUANTITY\t\t0.995\t\t0.995\t0.995\t1355\t\t7\t\t7\n"
     ]
    }
   ],
   "source": [
    "counter_TP= Counter()\n",
    "counter_FN = Counter()\n",
    "counter_FP = Counter()\n",
    "\n",
    "for y_test_l, y_pred_l in zip(test_labels, pred_labels):\n",
    "    calculate_match(y_test_l, y_pred_l)\n",
    "    \n",
    "labels=[\"ORDINAL\", \"ORG\", \"PRODUCT\", \"MODEL\", \"QUANTITY\"]\n",
    "print(\"Label\\t\\tPrecision\\tRecall\\tF1\\tTruePositive\\tFalsePositiv\\tFalseNegative\")\n",
    "for label in labels:\n",
    "    precision = counter_TP.get(label, 0) / (counter_TP.get(label, 1) + counter_FP.get(label, 0))\n",
    "    recall = counter_TP.get(label, 0) / (counter_TP.get(label, 1) + counter_FN.get(label, 0))\n",
    "    f1 = 2 * (precision*recall) / max((precision + recall),1)\n",
    "    print(\"%s\\t\\t%.3f\\t\\t%.3f\\t%.3f\\t%d\\t\\t%d\\t\\t%d\" % (label, precision, recall, f1, counter_TP.get(label, 0), counter_FP.get(label, 0), counter_FN.get(label, 0)))"
   ]
  },
  {
   "cell_type": "code",
   "execution_count": 24,
   "metadata": {},
   "outputs": [],
   "source": [
    "def calculate_match_debug(true_values, pred_values):\n",
    "    for i, label in enumerate(filter(lambda v: v !=\"O\",true_values)): #stamza не показывает O\n",
    "        if len(pred_values) <= i:\n",
    "            counter_FN[label] += 1\n",
    "            #counter_FP[pred_value] +=1\n",
    "            continue\n",
    "            \n",
    "        pred_value = pred_values[i]    \n",
    "        if  label == pred_value:\n",
    "            print (f\"{i}:{label} == {pred_value}\")\n",
    "            counter_TP[label] += 1\n",
    "        else:\n",
    "            print(f\"{i}:{label} <> {pred_value}\")\n",
    "            counter_FN[label] += 1\n",
    "            counter_FP[pred_value] +=1"
   ]
  },
  {
   "cell_type": "code",
   "execution_count": 29,
   "metadata": {},
   "outputs": [
    {
     "name": "stdout",
     "output_type": "stream",
     "text": [
      "[('\"', 'O'), ('Hame', 'ORG'), ('яблоко', 'PRODUCT'), ('-', 'PRODUCT'), ('морковь', 'PRODUCT'), ('фруктовое', 'PRODUCT'), ('пюре', 'PRODUCT'), (',', 'O'), ('190', 'CARDINAL'), ('г', 'CARDINAL'), ('\"', 'O')]\n",
      "[('Hame', 'ORG'), ('яблоко', 'PRODUCT'), ('-', 'PRODUCT'), ('морковь', 'PRODUCT'), ('фруктовое', 'PRODUCT'), ('пюре', 'PRODUCT'), ('190', 'CARDINAL'), ('г', 'CARDINAL')]\n",
      "-------------------------------------------------------------------------\n",
      "0:ORG == ORG\n",
      "1:PRODUCT == PRODUCT\n",
      "2:PRODUCT == PRODUCT\n",
      "3:PRODUCT == PRODUCT\n",
      "4:PRODUCT == PRODUCT\n",
      "5:PRODUCT == PRODUCT\n",
      "6:CARDINAL == CARDINAL\n",
      "7:CARDINAL == CARDINAL\n",
      "-------------------------------------------------------------------------\n",
      "Label\t\tPrecision\tRecall\tF1\tTruePositive\tFalsePositiv\tFalseNegative\n",
      "ORDINAL\t\t0.000\t\t0.000\t0.000\t0\t\t0\t\t0\n",
      "ORG\t\t1.000\t\t1.000\t1.000\t1\t\t0\t\t0\n",
      "PRODUCT\t\t1.000\t\t1.000\t1.000\t5\t\t0\t\t0\n",
      "MODEL\t\t0.000\t\t0.000\t0.000\t0\t\t0\t\t0\n",
      "QUANTITY\t\t0.000\t\t0.000\t0.000\t0\t\t0\t\t0\n"
     ]
    }
   ],
   "source": [
    "counter_TP= Counter()\n",
    "counter_FN = Counter()\n",
    "counter_FP = Counter()\n",
    "\n",
    "index = 9 #11, 15\n",
    "print(test_dataset[index])\n",
    "print(list(zip(pred_text[index], pred_labels[index])))\n",
    "print(\"-------------------------------------------------------------------------\")\n",
    "calculate_match_debug(test_labels[index], pred_labels[index])\n",
    "labels=[\"ORDINAL\", \"ORG\", \"PRODUCT\", \"MODEL\", \"QUANTITY\"]\n",
    "print(\"-------------------------------------------------------------------------\")\n",
    "print(\"Label\\t\\tPrecision\\tRecall\\tF1\\tTruePositive\\tFalsePositiv\\tFalseNegative\")\n",
    "for label in labels:\n",
    "    precision = counter_TP.get(label, 0) / (counter_TP.get(label, 1) + counter_FP.get(label, 0))\n",
    "    recall = counter_TP.get(label, 0) / (counter_TP.get(label, 1) + counter_FN.get(label, 0))\n",
    "    f1 = 2 * (precision*recall) / max((precision + recall),1)\n",
    "    print(\"%s\\t\\t%.3f\\t\\t%.3f\\t%.3f\\t%d\\t\\t%d\\t\\t%d\" % (label, precision, recall, f1, counter_TP.get(label, 0), counter_FP.get(label, 0), counter_FN.get(label, 0)))"
   ]
  },
  {
   "cell_type": "code",
   "execution_count": 26,
   "metadata": {},
   "outputs": [
    {
     "name": "stdout",
     "output_type": "stream",
     "text": [
      "[['O', 'ORG', 'PRODUCT', 'PRODUCT', 'PRODUCT', 'PRODUCT', 'PRODUCT', 'PRODUCT', 'PRODUCT', 'PRODUCT', 'QUANTITY', 'QUANTITY', 'QUANTITY', 'O', 'CARDINAL', 'CARDINAL', 'O'], ['O', 'ORG', 'ORG', 'PRODUCT', 'PRODUCT', 'O', 'CARDINAL', 'CARDINAL', 'O'], ['O', 'ORG', 'PRODUCT', 'PRODUCT', 'PRODUCT', 'PRODUCT', 'QUANTITY', 'QUANTITY', 'QUANTITY', 'O', 'CARDINAL', 'CARDINAL', 'O', 'CARDINAL', 'CARDINAL', 'O'], ['PRODUCT', 'O', 'ORG', 'ORG', 'PRODUCT', 'QUANTITY', 'CARDINAL'], ['PRODUCT', 'ORG', 'PRODUCT', 'QUANTITY', 'QUANTITY', 'QUANTITY', 'O', 'CARDINAL', 'CARDINAL', 'O'], ['O', 'ORG', 'PRODUCT', 'PRODUCT', 'PRODUCT', 'PRODUCT', 'QUANTITY', 'QUANTITY', 'QUANTITY', 'O', 'CARDINAL', 'CARDINAL', 'O', 'CARDINAL', 'CARDINAL', 'O'], ['PRODUCT', 'ORG', 'ORG', 'MODEL', 'PRODUCT', 'QUANTITY', 'QUANTITY', 'QUANTITY', 'O', 'CARDINAL', 'CARDINAL', 'O'], ['PRODUCT', 'PRODUCT', 'O', 'ORG', 'ORG', 'O', 'PRODUCT', 'QUANTITY', 'QUANTITY', 'QUANTITY', 'CARDINAL'], ['O', 'ORG', 'PRODUCT', 'PRODUCT', 'PRODUCT', 'PRODUCT', 'PRODUCT', 'PRODUCT', 'O', 'QUANTITY', 'QUANTITY', 'QUANTITY', 'O', 'CARDINAL', 'CARDINAL', 'O', 'CARDINAL', 'CARDINAL', 'O'], ['O', 'ORG', 'PRODUCT', 'PRODUCT', 'PRODUCT', 'PRODUCT', 'PRODUCT', 'O', 'CARDINAL', 'CARDINAL', 'O']]\n"
     ]
    }
   ],
   "source": [
    "print(test_labels[:10])"
   ]
  },
  {
   "cell_type": "code",
   "execution_count": 27,
   "metadata": {},
   "outputs": [
    {
     "name": "stdout",
     "output_type": "stream",
     "text": [
      "[['ORG', 'PRODUCT', 'PRODUCT', 'PRODUCT', 'PRODUCT', 'PRODUCT', 'PRODUCT', 'PRODUCT', 'PRODUCT', 'QUANTITY', 'QUANTITY', 'QUANTITY', 'CARDINAL', 'CARDINAL'], ['ORG', 'ORG', 'PRODUCT', 'PRODUCT', 'CARDINAL', 'CARDINAL'], ['ORG', 'PRODUCT', 'PRODUCT', 'PRODUCT', 'PRODUCT', 'QUANTITY', 'QUANTITY', 'QUANTITY', 'CARDINAL', 'CARDINAL', 'CARDINAL', 'CARDINAL'], ['PRODUCT', 'ORG', 'ORG', 'PRODUCT', 'QUANTITY', 'CARDINAL'], ['PRODUCT', 'ORG', 'PRODUCT', 'QUANTITY', 'QUANTITY', 'QUANTITY', 'CARDINAL', 'CARDINAL'], ['ORG', 'PRODUCT', 'PRODUCT', 'PRODUCT', 'PRODUCT', 'QUANTITY', 'QUANTITY', 'QUANTITY', 'CARDINAL', 'CARDINAL', 'CARDINAL', 'CARDINAL'], ['PRODUCT', 'ORG', 'ORG', 'MODEL', 'PRODUCT', 'QUANTITY', 'QUANTITY', 'QUANTITY', 'CARDINAL', 'CARDINAL'], ['PRODUCT', 'PRODUCT', 'ORG', 'ORG', 'PRODUCT', 'QUANTITY', 'QUANTITY', 'QUANTITY', 'CARDINAL'], ['ORG', 'PRODUCT', 'PRODUCT', 'PRODUCT', 'PRODUCT', 'PRODUCT', 'PRODUCT', 'QUANTITY', 'QUANTITY', 'QUANTITY', 'CARDINAL', 'CARDINAL', 'CARDINAL', 'CARDINAL'], ['ORG', 'PRODUCT', 'PRODUCT', 'PRODUCT', 'PRODUCT', 'PRODUCT', 'CARDINAL', 'CARDINAL']]\n"
     ]
    }
   ],
   "source": [
    "print(pred_labels[:10])"
   ]
  },
  {
   "cell_type": "code",
   "execution_count": null,
   "metadata": {},
   "outputs": [],
   "source": []
  }
 ],
 "metadata": {
  "kernelspec": {
   "display_name": "Python 3",
   "language": "python",
   "name": "python3"
  },
  "language_info": {
   "codemirror_mode": {
    "name": "ipython",
    "version": 3
   },
   "file_extension": ".py",
   "mimetype": "text/x-python",
   "name": "python",
   "nbconvert_exporter": "python",
   "pygments_lexer": "ipython3",
   "version": "3.7.7"
  }
 },
 "nbformat": 4,
 "nbformat_minor": 2
}
